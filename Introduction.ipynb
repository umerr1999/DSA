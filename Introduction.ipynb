{
 "cells": [
  {
   "cell_type": "code",
   "execution_count": 41,
   "metadata": {},
   "outputs": [],
   "source": [
    "randomlist=list(range(100001))"
   ]
  },
  {
   "cell_type": "code",
   "execution_count": 42,
   "metadata": {},
   "outputs": [
    {
     "name": "stdout",
     "output_type": "stream",
     "text": [
      "Enter any Number: 100000\n"
     ]
    }
   ],
   "source": [
    "S = int(input('Enter any Number: '))"
   ]
  },
  {
   "cell_type": "code",
   "execution_count": 43,
   "metadata": {},
   "outputs": [],
   "source": [
    "import time as ti"
   ]
  },
  {
   "cell_type": "markdown",
   "metadata": {},
   "source": [
    "## 1st Method"
   ]
  },
  {
   "cell_type": "code",
   "execution_count": 44,
   "metadata": {},
   "outputs": [
    {
     "name": "stdout",
     "output_type": "stream",
     "text": [
      "Running time:  0.023000478744506836\n"
     ]
    }
   ],
   "source": [
    "start = ti.time()\n",
    "flag = False\n",
    "N = len(randomlist)\n",
    "for i in range(N):\n",
    "    if randomlist[i] == S:\n",
    "        flag = True\n",
    "        break\n",
    "end = ti.time()\n",
    "print('Running time: ',end-start)"
   ]
  },
  {
   "cell_type": "code",
   "execution_count": 45,
   "metadata": {},
   "outputs": [
    {
     "name": "stdout",
     "output_type": "stream",
     "text": [
      "100000 is found in the randomlist\n",
      "The Index is:  100000\n"
     ]
    }
   ],
   "source": [
    "if flag:\n",
    "    print(S,'is found in the randomlist')\n",
    "    index = i\n",
    "    print('The Index is: ',i)\n",
    "else:\n",
    "    print(S,'is not found')"
   ]
  },
  {
   "cell_type": "markdown",
   "metadata": {},
   "source": [
    "## 2nd Method"
   ]
  },
  {
   "cell_type": "code",
   "execution_count": 46,
   "metadata": {},
   "outputs": [
    {
     "name": "stdout",
     "output_type": "stream",
     "text": [
      "Running time:  0.016999483108520508\n"
     ]
    }
   ],
   "source": [
    "start = ti.time()\n",
    "flag = False\n",
    "for i in randomlist:\n",
    "    if i == S:\n",
    "        flag = True\n",
    "        index = randomlist.index(i)\n",
    "        break\n",
    "        \n",
    "end = ti.time()\n",
    "print('Running time: ',end-start)"
   ]
  },
  {
   "cell_type": "code",
   "execution_count": 47,
   "metadata": {},
   "outputs": [
    {
     "name": "stdout",
     "output_type": "stream",
     "text": [
      "100000 is found in the randomlist\n",
      "The Index is:  100000\n"
     ]
    }
   ],
   "source": [
    "if flag:\n",
    "    print(S,'is found in the randomlist')\n",
    "    print('The Index is: ',index)\n",
    "else:\n",
    "    print(S,'is not found')"
   ]
  },
  {
   "cell_type": "markdown",
   "metadata": {},
   "source": [
    "## 3rd Method"
   ]
  },
  {
   "cell_type": "code",
   "execution_count": 48,
   "metadata": {},
   "outputs": [
    {
     "name": "stdout",
     "output_type": "stream",
     "text": [
      "Running time:  0.007000446319580078\n"
     ]
    }
   ],
   "source": [
    "start = ti.time()\n",
    "flag = S in randomlist\n",
    "if flag:\n",
    "    index = randomlist.index(S)\n",
    "    \n",
    "end = ti.time()\n",
    "print('Running time: ',end-start)"
   ]
  },
  {
   "cell_type": "code",
   "execution_count": 49,
   "metadata": {},
   "outputs": [
    {
     "name": "stdout",
     "output_type": "stream",
     "text": [
      "100000 is found in the randomlist\n",
      "The Index is:  100000\n"
     ]
    }
   ],
   "source": [
    "if flag:\n",
    "    print(S,'is found in the randomlist')\n",
    "    print('The Index is: ',index)\n",
    "else:\n",
    "    print(S,'is not found')"
   ]
  },
  {
   "cell_type": "code",
   "execution_count": null,
   "metadata": {},
   "outputs": [],
   "source": []
  }
 ],
 "metadata": {
  "kernelspec": {
   "display_name": "Python 3",
   "language": "python",
   "name": "python3"
  },
  "language_info": {
   "codemirror_mode": {
    "name": "ipython",
    "version": 3
   },
   "file_extension": ".py",
   "mimetype": "text/x-python",
   "name": "python",
   "nbconvert_exporter": "python",
   "pygments_lexer": "ipython3",
   "version": "3.7.4"
  }
 },
 "nbformat": 4,
 "nbformat_minor": 2
}
